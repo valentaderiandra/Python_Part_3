{
 "cells": [
  {
   "cell_type": "markdown",
   "id": "791b5ec9",
   "metadata": {},
   "source": [
    "This will execute if os.path.isfile('loge.txt') first. Later, if loge.txt file exists then open loge.txt, but if 'loge.txt' file doesn't exist it will execute else and create new files automatically"
   ]
  },
  {
   "cell_type": "code",
   "execution_count": 2,
   "id": "d1e5e560",
   "metadata": {},
   "outputs": [
    {
     "name": "stdout",
     "output_type": "stream",
     "text": [
      "what do you want to write to the log?This will execute the else because the loge.txt file is not in a single folder 29.txt file - check existence (Os Library)\n"
     ]
    }
   ],
   "source": [
    "import os\n",
    "\n",
    "if os.path.isfile('loge.txt'):\n",
    "    writeFile = open('loge.txt', 'a')\n",
    "else:\n",
    "    writeFile = open('log.txt', 'w') #overwrite\n",
    "\n",
    "toLog = input (\"what do you want to write to the log?\")\n",
    "writeFile.write(\"\\n\"+ toLog)\n",
    "writeFile.close()"
   ]
  },
  {
   "cell_type": "code",
   "execution_count": 4,
   "id": "0da1d3a1",
   "metadata": {},
   "outputs": [
    {
     "name": "stdout",
     "output_type": "stream",
     "text": [
      "\n",
      "This will execute the else because the loge.txt file is not in a single folder 29.txt file - check existence (Os Library)\n"
     ]
    }
   ],
   "source": [
    "workFile = open('log.txt','r')\n",
    "workFileContents = workFile.read()\n",
    "print(workFileContents)"
   ]
  },
  {
   "cell_type": "code",
   "execution_count": 5,
   "id": "94688db8",
   "metadata": {},
   "outputs": [],
   "source": [
    "workFile.close()"
   ]
  }
 ],
 "metadata": {
  "kernelspec": {
   "display_name": "Python 3 (ipykernel)",
   "language": "python",
   "name": "python3"
  },
  "language_info": {
   "codemirror_mode": {
    "name": "ipython",
    "version": 3
   },
   "file_extension": ".py",
   "mimetype": "text/x-python",
   "name": "python",
   "nbconvert_exporter": "python",
   "pygments_lexer": "ipython3",
   "version": "3.9.12"
  }
 },
 "nbformat": 4,
 "nbformat_minor": 5
}

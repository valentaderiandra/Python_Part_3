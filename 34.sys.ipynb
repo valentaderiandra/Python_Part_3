{
 "cells": [
  {
   "cell_type": "code",
   "execution_count": 5,
   "id": "9398be86",
   "metadata": {},
   "outputs": [
    {
     "name": "stdout",
     "output_type": "stream",
     "text": [
      "Enter a number 1\n",
      "Enter a number to divide by 0\n",
      "<class 'ZeroDivisionError'>\n",
      "This didn't work.Did you try to divide by Zero or something ?\n",
      "Please try again\n",
      "Thanks !,see you again\n"
     ]
    }
   ],
   "source": [
    "import sys\n",
    "\n",
    "a = float(input(\"Enter a number \"))\n",
    "b = float(input(\"Enter a number to divide by \"))\n",
    "\n",
    "try:\n",
    "\tprint(f\"The answer is {a/b}\")\n",
    "except:\n",
    "\tprint(sys.exc_info()[0])\n",
    "\tprint(\"This didn't work.Did you try to divide by Zero or something ?\")\n",
    "\tprint(\"Please try again\")    \n",
    "else:\n",
    "\tprint(\"You successfully used the division feature in Python\")\n",
    "finally:\n",
    "\tprint(\"Thanks !,see you again\")"
   ]
  },
  {
   "cell_type": "markdown",
   "id": "c01c41b2",
   "metadata": {},
   "source": [
    "# Task 1"
   ]
  },
  {
   "cell_type": "code",
   "execution_count": 6,
   "id": "30d1feae",
   "metadata": {},
   "outputs": [
    {
     "name": "stdout",
     "output_type": "stream",
     "text": [
      "Enter your height in cm: 175\n",
      "Enter your weight in kg: 85\n",
      "The answer is 27.755102040816325\n",
      "BMI is successful!\n",
      "Input next operation\n"
     ]
    }
   ],
   "source": [
    "import sys \n",
    "h = float(input(\"Enter your height in cm: \"))\n",
    "w = float(input(\"Enter your weight in kg: \"))\n",
    "\n",
    "try:\n",
    "    print(f\"The answer is {w / (h/100)**2}\")\n",
    "except:\n",
    "    print(sys.exc_info()[0])\n",
    "    print(\"This did not work. Did you try to divide by zero or else?\")\n",
    "else:\n",
    "    print(\"BMI is successful!\")\n",
    "finally:\n",
    "    print(\"Input next operation\")"
   ]
  }
 ],
 "metadata": {
  "kernelspec": {
   "display_name": "Python 3 (ipykernel)",
   "language": "python",
   "name": "python3"
  },
  "language_info": {
   "codemirror_mode": {
    "name": "ipython",
    "version": 3
   },
   "file_extension": ".py",
   "mimetype": "text/x-python",
   "name": "python",
   "nbconvert_exporter": "python",
   "pygments_lexer": "ipython3",
   "version": "3.9.12"
  }
 },
 "nbformat": 4,
 "nbformat_minor": 5
}

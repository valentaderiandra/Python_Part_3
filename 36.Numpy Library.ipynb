{
 "cells": [
  {
   "cell_type": "code",
   "execution_count": 1,
   "id": "3b4f06d8",
   "metadata": {},
   "outputs": [],
   "source": [
    "# Import NumPy\n",
    "import numpy as np"
   ]
  },
  {
   "cell_type": "code",
   "execution_count": 4,
   "id": "7d2b8e9f",
   "metadata": {},
   "outputs": [
    {
     "name": "stdout",
     "output_type": "stream",
     "text": [
      "1.21.5\n"
     ]
    }
   ],
   "source": [
    "# Checking NumPy Version\n",
    "print(np.__version__)"
   ]
  },
  {
   "cell_type": "code",
   "execution_count": 5,
   "id": "38818973",
   "metadata": {},
   "outputs": [
    {
     "name": "stdout",
     "output_type": "stream",
     "text": [
      "[1 2 3 4 5]\n"
     ]
    }
   ],
   "source": [
    "# Creating a NumPy array\n",
    "arr = np.array([1,2,3,4,5])\n",
    "print(arr)"
   ]
  },
  {
   "cell_type": "code",
   "execution_count": 7,
   "id": "6de46f76",
   "metadata": {},
   "outputs": [
    {
     "name": "stdout",
     "output_type": "stream",
     "text": [
      "[1 2 3 4 5]\n",
      "<class 'numpy.ndarray'>\n"
     ]
    }
   ],
   "source": [
    "import numpy as np\n",
    "arr = np.array([1,2,3,4,5])\n",
    "print(arr)\n",
    "print(type(arr))"
   ]
  },
  {
   "cell_type": "code",
   "execution_count": 8,
   "id": "32a872aa",
   "metadata": {},
   "outputs": [
    {
     "name": "stdout",
     "output_type": "stream",
     "text": [
      "[1 2 3 4 5]\n"
     ]
    }
   ],
   "source": [
    "# Use a tuple to create a NumPy array\n",
    "import numpy as np \n",
    "arr = np.array((1,2,3,4,5))\n",
    "print(arr)"
   ]
  },
  {
   "cell_type": "markdown",
   "id": "91f15d6f",
   "metadata": {},
   "source": [
    "## Task 1"
   ]
  },
  {
   "cell_type": "code",
   "execution_count": 10,
   "id": "3a0aa43b",
   "metadata": {},
   "outputs": [
    {
     "name": "stdout",
     "output_type": "stream",
     "text": [
      "1.21.5\n"
     ]
    }
   ],
   "source": [
    "# Import NumPy\n",
    "import numpy as np\n",
    "# Checking NumPy Version\n",
    "print(np.__version__)"
   ]
  },
  {
   "cell_type": "code",
   "execution_count": 11,
   "id": "345f309d",
   "metadata": {},
   "outputs": [
    {
     "name": "stdout",
     "output_type": "stream",
     "text": [
      "['Valent' 'Aderiandra' 'https://www.linkedin.com/in/valentaderiandra/']\n"
     ]
    }
   ],
   "source": [
    "# Creating a NumPy array\n",
    "arr = np.array([\"Valent\",\"Aderiandra\",\"https://www.linkedin.com/in/valentaderiandra/\"])\n",
    "print(arr)"
   ]
  },
  {
   "cell_type": "code",
   "execution_count": 12,
   "id": "d9311bba",
   "metadata": {},
   "outputs": [
    {
     "name": "stdout",
     "output_type": "stream",
     "text": [
      "['Valent' 'Aderiandra' 'https://www.linkedin.com/in/valentaderiandra/']\n"
     ]
    }
   ],
   "source": [
    "# Use a tuple to create a NumPy array\n",
    "import numpy as np \n",
    "arr = np.array((\"Valent\",\"Aderiandra\",\"https://www.linkedin.com/in/valentaderiandra/\"))\n",
    "print(arr)"
   ]
  },
  {
   "cell_type": "markdown",
   "id": "e1c3783f",
   "metadata": {},
   "source": [
    "# Dimensions in Arrays\n",
    "A dimension in arrays is one level of array depth (nested arrays)."
   ]
  },
  {
   "cell_type": "markdown",
   "id": "923a9faa",
   "metadata": {},
   "source": [
    "## 0 Dimensional Array"
   ]
  },
  {
   "cell_type": "code",
   "execution_count": 5,
   "id": "a7ef56c8",
   "metadata": {},
   "outputs": [
    {
     "name": "stdout",
     "output_type": "stream",
     "text": [
      "1\n"
     ]
    }
   ],
   "source": [
    "import numpy as np\n",
    "\n",
    "arr = np.array(1)\n",
    "print (arr)"
   ]
  },
  {
   "cell_type": "markdown",
   "id": "0acef335",
   "metadata": {},
   "source": [
    "## 1 Dimensional Array"
   ]
  },
  {
   "cell_type": "code",
   "execution_count": 10,
   "id": "0ec46cc0",
   "metadata": {},
   "outputs": [
    {
     "name": "stdout",
     "output_type": "stream",
     "text": [
      "[1]\n"
     ]
    }
   ],
   "source": [
    "import numpy as np\n",
    "\n",
    "arr = np.array([1])\n",
    "print (arr)"
   ]
  },
  {
   "cell_type": "markdown",
   "id": "452ebf74",
   "metadata": {},
   "source": [
    "## 2 Dimensional Array with 2 1 dimensional array"
   ]
  },
  {
   "cell_type": "code",
   "execution_count": 8,
   "id": "3cb9bc94",
   "metadata": {},
   "outputs": [
    {
     "name": "stdout",
     "output_type": "stream",
     "text": [
      "[[1]\n",
      " [2]]\n"
     ]
    }
   ],
   "source": [
    "import numpy as np\n",
    "\n",
    "arr = np.array([[1],[2]])\n",
    "print (arr)"
   ]
  },
  {
   "cell_type": "markdown",
   "id": "eda56d03",
   "metadata": {},
   "source": [
    "## 3D array with 2 2D array"
   ]
  },
  {
   "cell_type": "code",
   "execution_count": 9,
   "id": "24f02db2",
   "metadata": {},
   "outputs": [
    {
     "name": "stdout",
     "output_type": "stream",
     "text": [
      "[[[1]\n",
      "  [2]]\n",
      "\n",
      " [[3]\n",
      "  [4]]]\n"
     ]
    }
   ],
   "source": [
    "import numpy as np\n",
    "\n",
    "arr = np.array([[[1],[2]],[[3],[4]]])\n",
    "print (arr)"
   ]
  },
  {
   "cell_type": "markdown",
   "id": "f9d50c6d",
   "metadata": {},
   "source": [
    "## Task 2"
   ]
  },
  {
   "cell_type": "code",
   "execution_count": 13,
   "id": "e3ee9437",
   "metadata": {},
   "outputs": [
    {
     "name": "stdout",
     "output_type": "stream",
     "text": [
      "['Valent' 'Aderiandra']\n"
     ]
    }
   ],
   "source": [
    "# 1 D\n",
    "import numpy as np\n",
    "arr = np.array([\"Valent\",\"Aderiandra\"])\n",
    "print(arr)"
   ]
  },
  {
   "cell_type": "code",
   "execution_count": 14,
   "id": "072c784e",
   "metadata": {},
   "outputs": [
    {
     "name": "stdout",
     "output_type": "stream",
     "text": [
      "[['Valent' 'Aderiandra']\n",
      " ['https://www.linkedin.com/in/valentaderiandra/'\n",
      "  'https://github.com/valentaderiandra']]\n"
     ]
    }
   ],
   "source": [
    "# 2 Dimensions with 2 arrays\n",
    "import numpy as np\n",
    "arr = np.array([[\"Valent\",\"Aderiandra\"],[\"https://www.linkedin.com/in/valentaderiandra/\",\"https://github.com/valentaderiandra\"]])\n",
    "print(arr)\n"
   ]
  },
  {
   "cell_type": "code",
   "execution_count": 21,
   "id": "4e9b3d9e",
   "metadata": {},
   "outputs": [
    {
     "name": "stdout",
     "output_type": "stream",
     "text": [
      "[[[1 0 0]\n",
      "  [0 1 0]\n",
      "  [0 0 1]]\n",
      "\n",
      " [[1 0 0]\n",
      "  [1 1 0]\n",
      "  [1 1 1]]\n",
      "\n",
      " [[1 0 0]\n",
      "  [0 0 0]\n",
      "  [0 0 1]]]\n"
     ]
    }
   ],
   "source": [
    "# 3 D\n",
    "import numpy as np\n",
    "arr2 = np.array([\n",
    "    [[1, 0, 0], [0, 1, 0], [0, 0, 1]],\n",
    " [[1, 0, 0], [1, 1, 0], [1, 1, 1]],\n",
    " [[1, 0, 0], [0, 0, 0], [0, 0, 1]]\n",
    "])\n",
    "print(arr2)"
   ]
  },
  {
   "cell_type": "markdown",
   "id": "8897e7a3",
   "metadata": {},
   "source": [
    "# Check the array dimensions"
   ]
  },
  {
   "cell_type": "code",
   "execution_count": 13,
   "id": "c89eb8a6",
   "metadata": {},
   "outputs": [
    {
     "name": "stdout",
     "output_type": "stream",
     "text": [
      "0\n",
      "1\n",
      "2\n",
      "3\n"
     ]
    }
   ],
   "source": [
    "import numpy as np\n",
    "\n",
    "dimensions0 = np.array(1)\n",
    "dimensions1 = np.array([1])\n",
    "dimensions2 = np.array([[1],[2]])\n",
    "dimensions3 = np.array([[[1],[2]],[[3],[4]]])\n",
    "\n",
    "print(dimensions0.ndim)\n",
    "print(dimensions1.ndim)\n",
    "print(dimensions2.ndim)\n",
    "print(dimensions3.ndim)"
   ]
  },
  {
   "cell_type": "markdown",
   "id": "e4010828",
   "metadata": {},
   "source": [
    "## Task 3"
   ]
  },
  {
   "cell_type": "code",
   "execution_count": 14,
   "id": "881f12e1",
   "metadata": {},
   "outputs": [
    {
     "name": "stdout",
     "output_type": "stream",
     "text": [
      "0\n",
      "1\n",
      "2\n",
      "3\n"
     ]
    }
   ],
   "source": [
    "# Check how many dimensions the arrays have\n",
    "import numpy as np \n",
    "\n",
    "a = np.array(42)\n",
    "b = np.array([1,2,3,4,5])\n",
    "c = np.array([[1,2,3,4,5],[6,7,8,9,10]])\n",
    "d = np.array([[[1,2,3,4,5],[6,7,8,9,10]],[[11,12,13,14,15],[16,17,18,19,20]]])\n",
    "\n",
    "print(a.ndim)\n",
    "print(b.ndim)\n",
    "print(c.ndim)\n",
    "print(d.ndim)"
   ]
  },
  {
   "cell_type": "markdown",
   "id": "50a225ae",
   "metadata": {},
   "source": [
    "# Create a 5-dimensional array and try to check whether the array is a 5-dimensional array"
   ]
  },
  {
   "cell_type": "code",
   "execution_count": 1,
   "id": "d672c1e5",
   "metadata": {},
   "outputs": [
    {
     "name": "stdout",
     "output_type": "stream",
     "text": [
      "[[[[[1 2 3 4 5]]]]]\n",
      "Number of dimensions : 5\n"
     ]
    }
   ],
   "source": [
    "# np.array(x), if x is more than 5 dimensions then the ndmin command will not work so for example x is made a 7-dimensional array then the output is a 7-dimensional array\n",
    "import numpy as np\n",
    "\n",
    "arr = np.array([[1,2,3,4,5]],ndmin=5)\n",
    "print(arr)\n",
    "print('Number of dimensions :',arr.ndim)"
   ]
  },
  {
   "cell_type": "code",
   "execution_count": 2,
   "id": "a2f26f9b",
   "metadata": {},
   "outputs": [
    {
     "name": "stdout",
     "output_type": "stream",
     "text": [
      "1\n"
     ]
    }
   ],
   "source": [
    "# Find the first element of the array\n",
    "import numpy as np\n",
    "\n",
    "arr = np.array([1,2,3,4,5])\n",
    "print (arr[0])"
   ]
  },
  {
   "cell_type": "code",
   "execution_count": 27,
   "id": "e3e10ac5",
   "metadata": {},
   "outputs": [
    {
     "name": "stdout",
     "output_type": "stream",
     "text": [
      "2\n"
     ]
    }
   ],
   "source": [
    "# Find the second element of the array\n",
    "import numpy as np\n",
    "\n",
    "arr = np.array([1,2,3,4,5])\n",
    "print (arr[1])"
   ]
  },
  {
   "cell_type": "code",
   "execution_count": 29,
   "id": "e01d60ca",
   "metadata": {},
   "outputs": [
    {
     "name": "stdout",
     "output_type": "stream",
     "text": [
      "5\n"
     ]
    }
   ],
   "source": [
    "# Find the second and third elements of the array, then add them up\n",
    "import numpy as np\n",
    "\n",
    "arr = np.array([1,2,3,4,5])\n",
    "print(arr[1]+arr[2])"
   ]
  },
  {
   "cell_type": "markdown",
   "id": "efe429c1",
   "metadata": {},
   "source": [
    "# Task 4\n"
   ]
  },
  {
   "cell_type": "code",
   "execution_count": 34,
   "id": "5706e51e",
   "metadata": {},
   "outputs": [
    {
     "name": "stdout",
     "output_type": "stream",
     "text": [
      "[10, 17, 13, 12, 26, 19, 25, 21, 29, 27]\n",
      "[10, 17, 13]\n",
      "[10, 13]\n"
     ]
    }
   ],
   "source": [
    "import random \n",
    "import numpy as np\n",
    "#Generate 5 random numbers between 10 and 30\n",
    "randomlist = random.sample(range(10, 30), 10)\n",
    "print(randomlist)\n",
    "\n",
    "print(randomlist[0:3])\n",
    "print(randomlist[0:3:2])"
   ]
  },
  {
   "cell_type": "markdown",
   "id": "918adc95",
   "metadata": {},
   "source": [
    "# Find elements from array"
   ]
  },
  {
   "cell_type": "code",
   "execution_count": 31,
   "id": "5345194b",
   "metadata": {},
   "outputs": [
    {
     "name": "stdout",
     "output_type": "stream",
     "text": [
      "2nd element on 1st row : 2\n"
     ]
    }
   ],
   "source": [
    "# Find elements of the first array, second row\n",
    "import numpy as np\n",
    "\n",
    "arr = np.array([[1,2,3,4,5],[6,7,8,9,10]])\n",
    "print('2nd element on 1st row :', arr[0,1])"
   ]
  },
  {
   "cell_type": "code",
   "execution_count": 33,
   "id": "3d2f4822",
   "metadata": {},
   "outputs": [
    {
     "name": "stdout",
     "output_type": "stream",
     "text": [
      "5th element on 2nd row : 10\n"
     ]
    }
   ],
   "source": [
    "# Find element from 2nd row,5th column\n",
    "import numpy as np\n",
    "\n",
    "arr = np.array([[1,2,3,4,5],[6,7,8,9,10]])\n",
    "print('5th element on 2nd row :', arr[1,4])"
   ]
  },
  {
   "cell_type": "code",
   "execution_count": 34,
   "id": "9b0493cf",
   "metadata": {},
   "outputs": [
    {
     "name": "stdout",
     "output_type": "stream",
     "text": [
      "6\n"
     ]
    }
   ],
   "source": [
    "# Acces the third element of the second array of the first array\n",
    "import numpy as np\n",
    "\n",
    "arr = np.array([\n",
    "[[1,2,3],[4,5,6]],\n",
    "[[7,8,9],[10,11,12]]\n",
    "])\n",
    "print(arr[0,1,2])"
   ]
  },
  {
   "cell_type": "code",
   "execution_count": 36,
   "id": "e4d3ed26",
   "metadata": {},
   "outputs": [
    {
     "name": "stdout",
     "output_type": "stream",
     "text": [
      "Last element from 2nd dim :  10\n"
     ]
    }
   ],
   "source": [
    "# print the Last element from the 2nd array\n",
    "import numpy as np\n",
    "\n",
    "arr = np.array([[1,2,3,4,5],[6,7,8,9,10]])\n",
    "print('Last element from 2nd dim : ',arr[1,-1])"
   ]
  },
  {
   "cell_type": "code",
   "execution_count": 3,
   "id": "ce8e6e87",
   "metadata": {},
   "outputs": [
    {
     "name": "stdout",
     "output_type": "stream",
     "text": [
      "Elements that are in the first index to the third index of the first array :  [2 3 4]\n"
     ]
    }
   ],
   "source": [
    "# Slice elements from index 1st to index 3rd from the first array\n",
    "import numpy as np\n",
    "\n",
    "arr = np.array([[1,2,3,4,5],[6,7,8,9,10]])\n",
    "print('Elements that are in the first index to the third index of the first array : ',arr[0,1:4])"
   ]
  },
  {
   "cell_type": "code",
   "execution_count": 40,
   "id": "f3a59648",
   "metadata": {},
   "outputs": [
    {
     "name": "stdout",
     "output_type": "stream",
     "text": [
      "[ 5  6  7  8  9 10]\n"
     ]
    }
   ],
   "source": [
    "# Slice elements from index 4 to the end of the array \n",
    "\n",
    "import numpy as np\n",
    "\n",
    "arr = np.array([1,2,3,4,5,6,7,8,9,10])\n",
    "print(arr[4:])"
   ]
  },
  {
   "cell_type": "code",
   "execution_count": 41,
   "id": "31146f68",
   "metadata": {},
   "outputs": [
    {
     "name": "stdout",
     "output_type": "stream",
     "text": [
      "[1 2 3 4]\n"
     ]
    }
   ],
   "source": [
    "# Slice elements from beginning to the index 4 (not included)\n",
    "\n",
    "import numpy as np\n",
    "\n",
    "arr = np.array([1,2,3,4,5,6,7,8,9,10])\n",
    "print(arr[:4])"
   ]
  },
  {
   "cell_type": "code",
   "execution_count": 42,
   "id": "e031602e",
   "metadata": {},
   "outputs": [
    {
     "name": "stdout",
     "output_type": "stream",
     "text": [
      "[8 9]\n"
     ]
    }
   ],
   "source": [
    "# Slice elements from the index 3 from the end of to index 1 from the end \n",
    "import numpy as np\n",
    "\n",
    "arr = np.array([1,2,3,4,5,6,7,8,9,10])\n",
    "print(arr[-3:-1])"
   ]
  },
  {
   "cell_type": "code",
   "execution_count": 45,
   "id": "5c80e824",
   "metadata": {},
   "outputs": [
    {
     "name": "stdout",
     "output_type": "stream",
     "text": [
      "[2 4]\n",
      "[ 6  8 10]\n"
     ]
    }
   ],
   "source": [
    "# Show even numbers from the array below\n",
    "import numpy as np\n",
    "\n",
    "arr = np.array([[1,2,3,4,5],[6,7,8,9,10]])\n",
    "print(arr[0,1: :2])\n",
    "print(arr[1, : :2])"
   ]
  },
  {
   "cell_type": "code",
   "execution_count": 47,
   "id": "3ed75206",
   "metadata": {},
   "outputs": [
    {
     "name": "stdout",
     "output_type": "stream",
     "text": [
      "[[1 2 3]\n",
      " [6 7 8]]\n"
     ]
    }
   ],
   "source": [
    "# Show 3 numbers from index 0 of each array\n",
    "import numpy as np\n",
    "\n",
    "arr = np.array([[1,2,3,4,5],[6,7,8,9,10]])\n",
    "print(arr[0:,:3])"
   ]
  },
  {
   "cell_type": "markdown",
   "id": "eaf783c1",
   "metadata": {},
   "source": [
    "# Task 5"
   ]
  },
  {
   "cell_type": "code",
   "execution_count": 4,
   "id": "1f622191",
   "metadata": {},
   "outputs": [
    {
     "name": "stdout",
     "output_type": "stream",
     "text": [
      "From list [1 2 3 4 5] the answer for arr[1] is 2\n"
     ]
    }
   ],
   "source": [
    "# Acces the element on the first row,second coloumn\n",
    "import numpy as np \n",
    "\n",
    "arr = np.array([1,2,3,4,5])\n",
    "print(\"From list {} the answer for arr[1] is\".format(arr),arr[1])"
   ]
  },
  {
   "cell_type": "code",
   "execution_count": 5,
   "id": "b104e3b3",
   "metadata": {},
   "outputs": [
    {
     "name": "stdout",
     "output_type": "stream",
     "text": [
      "From list [[ 1  2  3  4  5]\n",
      " [ 6  7  8  9 10]] the answer for arr[1,3] is 9\n"
     ]
    }
   ],
   "source": [
    "import numpy as np \n",
    "\n",
    "arr = np.array([[1,2,3,4,5],[6,7,8,9,10]])\n",
    "print(\"From list {} the answer for arr[1,3] is\".format(arr),arr[1,3])"
   ]
  },
  {
   "cell_type": "code",
   "execution_count": 6,
   "id": "1692e8ef",
   "metadata": {},
   "outputs": [
    {
     "name": "stdout",
     "output_type": "stream",
     "text": [
      "From list [[[ 1  2  3  4  5]\n",
      "  [ 6  7  8  9 10]]\n",
      "\n",
      " [[11 12 13 14 15]\n",
      "  [16 17 18 19 20]]] the answer for arr[1,1,2] is 18\n"
     ]
    }
   ],
   "source": [
    "import numpy as np \n",
    "\n",
    "arr = np.array([[[1,2,3,4,5],[6,7,8,9,10]],[[11,12,13,14,15],[16,17,18,19,20]]])\n",
    "print(\"From list {} the answer for arr[1,1,2] is\".format(arr),arr[1,1,2])"
   ]
  }
 ],
 "metadata": {
  "kernelspec": {
   "display_name": "Python 3 (ipykernel)",
   "language": "python",
   "name": "python3"
  },
  "language_info": {
   "codemirror_mode": {
    "name": "ipython",
    "version": 3
   },
   "file_extension": ".py",
   "mimetype": "text/x-python",
   "name": "python",
   "nbconvert_exporter": "python",
   "pygments_lexer": "ipython3",
   "version": "3.9.12"
  }
 },
 "nbformat": 4,
 "nbformat_minor": 5
}

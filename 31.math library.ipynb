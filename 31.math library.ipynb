{
 "cells": [
  {
   "cell_type": "code",
   "execution_count": 1,
   "id": "c226f547",
   "metadata": {},
   "outputs": [],
   "source": [
    "import math "
   ]
  },
  {
   "cell_type": "code",
   "execution_count": 2,
   "id": "ded6ae93",
   "metadata": {},
   "outputs": [
    {
     "data": {
      "text/plain": [
       "3.141592653589793"
      ]
     },
     "execution_count": 2,
     "metadata": {},
     "output_type": "execute_result"
    }
   ],
   "source": [
    "phi = math.pi\n",
    "phi"
   ]
  },
  {
   "cell_type": "code",
   "execution_count": 3,
   "id": "304ceb60",
   "metadata": {},
   "outputs": [
    {
     "data": {
      "text/plain": [
       "4"
      ]
     },
     "execution_count": 3,
     "metadata": {},
     "output_type": "execute_result"
    }
   ],
   "source": [
    "# Round up\n",
    "upperBound = math.ceil(phi)\n",
    "upperBound"
   ]
  },
  {
   "cell_type": "code",
   "execution_count": 4,
   "id": "b3e3f4cc",
   "metadata": {},
   "outputs": [
    {
     "data": {
      "text/plain": [
       "3"
      ]
     },
     "execution_count": 4,
     "metadata": {},
     "output_type": "execute_result"
    }
   ],
   "source": [
    "# Round down\n",
    "lowerBound = math.floor(phi)\n",
    "lowerBound"
   ]
  },
  {
   "cell_type": "markdown",
   "id": "c0f1e62f",
   "metadata": {},
   "source": [
    "# Task 1"
   ]
  },
  {
   "cell_type": "markdown",
   "id": "a47c91a3",
   "metadata": {},
   "source": [
    "Finding the area of a circle"
   ]
  },
  {
   "cell_type": "code",
   "execution_count": 3,
   "id": "7d134d47",
   "metadata": {},
   "outputs": [],
   "source": [
    "import math\n",
    "phi = math.pi\n",
    "phi\n",
    "\n",
    "def areaofcircle(r) :\n",
    "    area=phi*r**2\n",
    "    return print(\"The area of the circle is {}\".format(area)) "
   ]
  },
  {
   "cell_type": "code",
   "execution_count": 4,
   "id": "8165550b",
   "metadata": {},
   "outputs": [
    {
     "name": "stdout",
     "output_type": "stream",
     "text": [
      "Enter the radius of the circle = 10\n",
      "The area of the circle is 314.1592653589793\n"
     ]
    }
   ],
   "source": [
    "r = float(input(\"Enter the radius of the circle = \"))\n",
    "areaofcircle(r)"
   ]
  }
 ],
 "metadata": {
  "kernelspec": {
   "display_name": "Python 3 (ipykernel)",
   "language": "python",
   "name": "python3"
  },
  "language_info": {
   "codemirror_mode": {
    "name": "ipython",
    "version": 3
   },
   "file_extension": ".py",
   "mimetype": "text/x-python",
   "name": "python",
   "nbconvert_exporter": "python",
   "pygments_lexer": "ipython3",
   "version": "3.9.12"
  }
 },
 "nbformat": 4,
 "nbformat_minor": 5
}

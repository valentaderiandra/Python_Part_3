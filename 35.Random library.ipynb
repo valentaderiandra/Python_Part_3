{
 "cells": [
  {
   "cell_type": "code",
   "execution_count": 1,
   "id": "8b5a2de7",
   "metadata": {},
   "outputs": [],
   "source": [
    "from random import randint"
   ]
  },
  {
   "cell_type": "code",
   "execution_count": 2,
   "id": "e53f26c6",
   "metadata": {},
   "outputs": [
    {
     "name": "stdout",
     "output_type": "stream",
     "text": [
      "Random num 0 is. 8\n",
      "Random num 1 is. 5\n",
      "Random num 2 is. 9\n",
      "Random num 3 is. 8\n",
      "Random num 4 is. 9\n",
      "Random num 5 is. 6\n",
      "Random num 6 is. 2\n",
      "Random num 7 is. 4\n",
      "Random num 8 is. 7\n",
      "Random num 9 is. 2\n"
     ]
    }
   ],
   "source": [
    "for i in range(10):\n",
    "\tprint(f\"Random num {i} is. {randint(1,10)}\")"
   ]
  },
  {
   "cell_type": "markdown",
   "id": "118b206a",
   "metadata": {},
   "source": [
    "# Task 1 "
   ]
  },
  {
   "cell_type": "code",
   "execution_count": 15,
   "id": "65251077",
   "metadata": {},
   "outputs": [
    {
     "name": "stdout",
     "output_type": "stream",
     "text": [
      "16 16 10 4 12 8 "
     ]
    }
   ],
   "source": [
    "# Displays even numbers from random library\n",
    "import random\n",
    "\n",
    "for x in range(6):\n",
    "    print(random.randrange(2, 20, 2), end=' ')"
   ]
  }
 ],
 "metadata": {
  "kernelspec": {
   "display_name": "Python 3 (ipykernel)",
   "language": "python",
   "name": "python3"
  },
  "language_info": {
   "codemirror_mode": {
    "name": "ipython",
    "version": 3
   },
   "file_extension": ".py",
   "mimetype": "text/x-python",
   "name": "python",
   "nbconvert_exporter": "python",
   "pygments_lexer": "ipython3",
   "version": "3.9.12"
  }
 },
 "nbformat": 4,
 "nbformat_minor": 5
}

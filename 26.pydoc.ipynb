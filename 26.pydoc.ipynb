{
 "cells": [
  {
   "cell_type": "markdown",
   "id": "78e5ea3a",
   "metadata": {},
   "source": [
    "command prompt (Anaconda Prompt)"
   ]
  },
  {
   "cell_type": "markdown",
   "id": "11f089b3",
   "metadata": {},
   "source": [
    "c:\\users\\admin>python -m pydoc pass"
   ]
  },
  {
   "cell_type": "markdown",
   "id": "b55c0a08",
   "metadata": {},
   "source": [
    "c:\\users\\admin>python /?"
   ]
  },
  {
   "cell_type": "markdown",
   "id": "ae1149db",
   "metadata": {},
   "source": [
    "Type Markdown and LaTex : a^^2 (a squared 2)"
   ]
  }
 ],
 "metadata": {
  "kernelspec": {
   "display_name": "Python 3 (ipykernel)",
   "language": "python",
   "name": "python3"
  },
  "language_info": {
   "codemirror_mode": {
    "name": "ipython",
    "version": 3
   },
   "file_extension": ".py",
   "mimetype": "text/x-python",
   "name": "python",
   "nbconvert_exporter": "python",
   "pygments_lexer": "ipython3",
   "version": "3.9.12"
  }
 },
 "nbformat": 4,
 "nbformat_minor": 5
}

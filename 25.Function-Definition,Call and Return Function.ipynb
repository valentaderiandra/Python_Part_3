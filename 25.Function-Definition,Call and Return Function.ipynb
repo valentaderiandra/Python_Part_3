{
 "cells": [
  {
   "cell_type": "markdown",
   "id": "0229fcd0",
   "metadata": {},
   "source": [
    "# Function\n",
    "* In mathematics, a function is a process that relates an input (input) and an output (output).\n",
    "* In Python, in addition to these relational functions, functions are also a way to organize code-with the ultimate goal of usable code.\n",
    "* It is recommended that functions have only one specific use, but can be reused.\n",
    "* Common functions have been provided by Python.\n",
    "* However, we can always define our own function"
   ]
  },
  {
   "cell_type": "markdown",
   "id": "8ad7f45e",
   "metadata": {},
   "source": [
    "# Defining Functions\n",
    "* Functions are defined with the def keyword followed by the name of the function and its parameters in brackets().\n",
    "* Optionally, you can add documentation strings describing the context of the function.\n",
    "* The code block in each function starts with a colon and uses an indentation.\n",
    "* The function stops when there is a return statement (expression) that returns (expression) to the caller.\n",
    "* You can also make the function return no output by returning None."
   ]
  },
  {
   "cell_type": "code",
   "execution_count": 1,
   "id": "2d5f8f32",
   "metadata": {},
   "outputs": [],
   "source": [
    "def rank(x):\n",
    "    square = x**2 #function squared\n",
    "    return square"
   ]
  },
  {
   "cell_type": "code",
   "execution_count": 3,
   "id": "a7d017b9",
   "metadata": {},
   "outputs": [
    {
     "data": {
      "text/plain": [
       "9"
      ]
     },
     "execution_count": 3,
     "metadata": {},
     "output_type": "execute_result"
    }
   ],
   "source": [
    "rank(3)"
   ]
  },
  {
   "cell_type": "code",
   "execution_count": 4,
   "id": "a7eebca1",
   "metadata": {},
   "outputs": [],
   "source": [
    "def rank(x):\n",
    "    square = x**2 #function squared\n",
    "    print(square)"
   ]
  },
  {
   "cell_type": "code",
   "execution_count": 5,
   "id": "53f819c7",
   "metadata": {},
   "outputs": [
    {
     "name": "stdout",
     "output_type": "stream",
     "text": [
      "9\n"
     ]
    }
   ],
   "source": [
    "rank(3)"
   ]
  },
  {
   "cell_type": "markdown",
   "id": "87fb8b67",
   "metadata": {},
   "source": [
    "By default, Python will position each parameter in the order in which it was registered and must be called in that order."
   ]
  },
  {
   "cell_type": "code",
   "execution_count": 6,
   "id": "6e216722",
   "metadata": {},
   "outputs": [],
   "source": [
    "def name(x):\n",
    "     hello = \"Hi {}. How are you? Hope you are fine :)\".format(x)\n",
    "     return hello"
   ]
  },
  {
   "cell_type": "code",
   "execution_count": 7,
   "id": "f758fc34",
   "metadata": {},
   "outputs": [
    {
     "data": {
      "text/plain": [
       "'Hi Valent Aderiandra. How are you? Hope you are fine :)'"
      ]
     },
     "execution_count": 7,
     "metadata": {},
     "output_type": "execute_result"
    }
   ],
   "source": [
    "name (\"Valent Aderiandra\")"
   ]
  },
  {
   "cell_type": "markdown",
   "id": "a7a5200e",
   "metadata": {},
   "source": [
    "# Return\n",
    "The return [expression] statement will make program execution exit the current function, while returning a certain value."
   ]
  },
  {
   "cell_type": "code",
   "execution_count": 12,
   "id": "0bedd9eb",
   "metadata": {},
   "outputs": [],
   "source": [
    "def add(x,y):\n",
    "    plus = x+y #addition function\n",
    "    print(\"The result is {}\".format(plus))\n",
    "    return plus"
   ]
  },
  {
   "cell_type": "code",
   "execution_count": 13,
   "id": "2328861b",
   "metadata": {},
   "outputs": [
    {
     "name": "stdout",
     "output_type": "stream",
     "text": [
      "The result is 15.5\n"
     ]
    },
    {
     "data": {
      "text/plain": [
       "15.5"
      ]
     },
     "execution_count": 13,
     "metadata": {},
     "output_type": "execute_result"
    }
   ],
   "source": [
    "add (5,10.5)"
   ]
  },
  {
   "cell_type": "code",
   "execution_count": 14,
   "id": "2a6b6ce7",
   "metadata": {},
   "outputs": [
    {
     "name": "stdout",
     "output_type": "stream",
     "text": [
      "The result is 5\n",
      "Return result is 5\n"
     ]
    }
   ],
   "source": [
    "output = add(2,3)\n",
    "print(\"Return result is {}\".format(output))"
   ]
  },
  {
   "cell_type": "markdown",
   "id": "59983488",
   "metadata": {},
   "source": [
    "* The return value of a function can be stored in a variable\n",
    "* This will distinguish a function that returns a value from a function that does not return a value (often referred to as a procedure)"
   ]
  },
  {
   "cell_type": "code",
   "execution_count": 17,
   "id": "339f2f0b",
   "metadata": {},
   "outputs": [],
   "source": [
    "def rank(x):\n",
    "    square = x**2 #function squared\n",
    "    return square"
   ]
  },
  {
   "cell_type": "code",
   "execution_count": 18,
   "id": "c59743c1",
   "metadata": {},
   "outputs": [
    {
     "data": {
      "text/plain": [
       "9"
      ]
     },
     "execution_count": 18,
     "metadata": {},
     "output_type": "execute_result"
    }
   ],
   "source": [
    "rank(3)"
   ]
  },
  {
   "cell_type": "code",
   "execution_count": 19,
   "id": "31fb5694",
   "metadata": {},
   "outputs": [
    {
     "name": "stdout",
     "output_type": "stream",
     "text": [
      "9\n",
      "Result is 81\n"
     ]
    }
   ],
   "source": [
    "number = int(input().strip())\n",
    "result = rank(number)\n",
    "print(\"Result is {}\".format(result))"
   ]
  },
  {
   "cell_type": "code",
   "execution_count": 20,
   "id": "e767724a",
   "metadata": {},
   "outputs": [
    {
     "name": "stdout",
     "output_type": "stream",
     "text": [
      "The square of 9 is 81\n"
     ]
    }
   ],
   "source": [
    "print(\"The square of {} is {}\".format(number,result))"
   ]
  },
  {
   "cell_type": "markdown",
   "id": "d74d2b09",
   "metadata": {},
   "source": [
    "# Pass by reference vs value\n",
    "* All parameters (arguments) in Python are \"passed by reference\", meaning that when we change a variable, the data that references it will also change, both inside the function and outside the calling function.\n",
    "* Except, if we do assignment operation which will change reference parameter.#"
   ]
  },
  {
   "cell_type": "code",
   "execution_count": 25,
   "id": "17e496aa",
   "metadata": {},
   "outputs": [],
   "source": [
    "def change(list_list):\n",
    "    list_list.append([3,4])\n",
    "    print(\"The value in the function is {}\".format(list_list))"
   ]
  },
  {
   "cell_type": "code",
   "execution_count": 26,
   "id": "46f79081",
   "metadata": {},
   "outputs": [
    {
     "name": "stdout",
     "output_type": "stream",
     "text": [
      "The value in the function is [5, 6, [3, 4]]\n",
      "The value outside the function is [5, 6, [3, 4]]\n"
     ]
    }
   ],
   "source": [
    "list_list = [5,6]\n",
    "change (list_list)\n",
    "print(\"The value outside the function is {}\".format(list_list))"
   ]
  },
  {
   "cell_type": "markdown",
   "id": "7e5a071c",
   "metadata": {},
   "source": [
    "However, we must be careful because assigning a variable named the same as a parameter means creating a new variable in local scope and not related to global variables."
   ]
  },
  {
   "cell_type": "code",
   "execution_count": 27,
   "id": "09538289",
   "metadata": {},
   "outputs": [],
   "source": [
    "def change(list_list):\n",
    "    list_list = [3,4]\n",
    "    list_list.append (5)\n",
    "    print(\"The value in the function is {}\".format(list_list))"
   ]
  },
  {
   "cell_type": "code",
   "execution_count": 30,
   "id": "cdafdd14",
   "metadata": {},
   "outputs": [
    {
     "name": "stdout",
     "output_type": "stream",
     "text": [
      "The value in the function is [3, 4, 5]\n"
     ]
    }
   ],
   "source": [
    "change([200])"
   ]
  },
  {
   "cell_type": "code",
   "execution_count": 31,
   "id": "f21162af",
   "metadata": {},
   "outputs": [
    {
     "name": "stdout",
     "output_type": "stream",
     "text": [
      "The value in the function is [3, 4, 5]\n"
     ]
    }
   ],
   "source": [
    "list_list = [5,6]\n",
    "change(list_list)"
   ]
  },
  {
   "cell_type": "code",
   "execution_count": 32,
   "id": "cb328251",
   "metadata": {},
   "outputs": [
    {
     "name": "stdout",
     "output_type": "stream",
     "text": [
      "The value in the function is [3, 4, 5]\n",
      "The value outside the function is [5, 6]\n"
     ]
    }
   ],
   "source": [
    "list_list = [5,6]\n",
    "change(list_list)\n",
    "print(\"The value outside the function is {}\".format(list_list))"
   ]
  },
  {
   "cell_type": "markdown",
   "id": "5f38bdf7",
   "metadata": {},
   "source": [
    "# Task 1"
   ]
  },
  {
   "cell_type": "code",
   "execution_count": 36,
   "id": "bd2e9d14",
   "metadata": {},
   "outputs": [
    {
     "name": "stdout",
     "output_type": "stream",
     "text": [
      "1.Calculating the area of a square\n",
      "2.Calculating area of triangle\n",
      "3.End Program\n",
      "Enter the command you want to select = 1\n",
      "Enter length = 10\n",
      "Enter Width = 5\n",
      "Area of Square : 50.0\n",
      "1.Calculating the area of a square\n",
      "2.Calculating area of triangle\n",
      "3.End Program\n",
      "Enter the command you want to select = 2\n",
      "Enter base value = 30\n",
      "Enter height = 2\n",
      "Area of Triangle : 30.0\n",
      "1.Calculating the area of a square\n",
      "2.Calculating area of triangle\n",
      "3.End Program\n",
      "Enter the command you want to select = 3\n"
     ]
    }
   ],
   "source": [
    "def square(p,l):\n",
    "     result1 = p*l\n",
    "     print(\"Area of Square : {}\".format(result1))\n",
    "     return result1\n",
    "def triangle(a,t):\n",
    "     result2 = 1/2 *a*t\n",
    "     print(\"Area of Triangle : {}\".format(result2))\n",
    "     return result2\n",
    "\n",
    "while True:\n",
    "     print(\"1.Calculating the area of a square\")\n",
    "     print(\"2.Calculating area of triangle\")\n",
    "     print(\"3.End Program\")\n",
    "     user = int(input(\"Enter the command you want to select = \"))\n",
    "     if user == 1 :\n",
    "         p = float(input(\"Enter length = \"))\n",
    "         l = float(input(\"Enter Width = \"))\n",
    "         square(p,l)\n",
    "     elif user == 2 :\n",
    "         a = float(input(\"Enter base value = \"))\n",
    "         t = float(input(\"Enter height = \"))\n",
    "         triangle(a,t)\n",
    "     else:\n",
    "         break"
   ]
  },
  {
   "cell_type": "markdown",
   "id": "990a6d3e",
   "metadata": {},
   "source": [
    "# Task 2"
   ]
  },
  {
   "cell_type": "code",
   "execution_count": 37,
   "id": "01f706e5",
   "metadata": {},
   "outputs": [],
   "source": [
    "def removes_spaces (numbers):\n",
    "     result = number.lstrip(\"0\")\n",
    "     print(result)"
   ]
  },
  {
   "cell_type": "code",
   "execution_count": 38,
   "id": "f94a6a82",
   "metadata": {},
   "outputs": [
    {
     "name": "stdout",
     "output_type": "stream",
     "text": [
      "Enter your number = 05\n",
      "5\n"
     ]
    }
   ],
   "source": [
    "number = input(\"Enter your number = \")\n",
    "removes_spaces(number)"
   ]
  },
  {
   "cell_type": "markdown",
   "id": "a7184e5a",
   "metadata": {},
   "source": [
    "# Task 3"
   ]
  },
  {
   "cell_type": "code",
   "execution_count": 39,
   "id": "80213fee",
   "metadata": {},
   "outputs": [],
   "source": [
    "def squared (number):\n",
    "     x = number**2\n",
    "     return(x)"
   ]
  },
  {
   "cell_type": "code",
   "execution_count": 40,
   "id": "5ae4491e",
   "metadata": {},
   "outputs": [
    {
     "data": {
      "text/plain": [
       "100"
      ]
     },
     "execution_count": 40,
     "metadata": {},
     "output_type": "execute_result"
    }
   ],
   "source": [
    "squared (10)"
   ]
  },
  {
   "cell_type": "code",
   "execution_count": 41,
   "id": "6b510bdc",
   "metadata": {},
   "outputs": [],
   "source": [
    "def squared (number):\n",
    "     number = 10\n",
    "     x = number**2\n",
    "     return(x)"
   ]
  },
  {
   "cell_type": "code",
   "execution_count": 42,
   "id": "4eb18f69",
   "metadata": {},
   "outputs": [
    {
     "data": {
      "text/plain": [
       "100"
      ]
     },
     "execution_count": 42,
     "metadata": {},
     "output_type": "execute_result"
    }
   ],
   "source": [
    "squared (2)"
   ]
  }
 ],
 "metadata": {
  "kernelspec": {
   "display_name": "Python 3 (ipykernel)",
   "language": "python",
   "name": "python3"
  },
  "language_info": {
   "codemirror_mode": {
    "name": "ipython",
    "version": 3
   },
   "file_extension": ".py",
   "mimetype": "text/x-python",
   "name": "python",
   "nbconvert_exporter": "python",
   "pygments_lexer": "ipython3",
   "version": "3.9.12"
  }
 },
 "nbformat": 4,
 "nbformat_minor": 5
}

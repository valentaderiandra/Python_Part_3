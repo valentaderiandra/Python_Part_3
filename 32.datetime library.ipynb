{
 "cells": [
  {
   "cell_type": "code",
   "execution_count": 1,
   "id": "fe1a388d",
   "metadata": {},
   "outputs": [],
   "source": [
    "import datetime"
   ]
  },
  {
   "cell_type": "code",
   "execution_count": 3,
   "id": "beda2807",
   "metadata": {},
   "outputs": [
    {
     "data": {
      "text/plain": [
       "datetime.datetime(2022, 10, 8, 7, 56, 31, 552826)"
      ]
     },
     "execution_count": 3,
     "metadata": {},
     "output_type": "execute_result"
    }
   ],
   "source": [
    "todayWithTime = datetime.datetime.today()\n",
    "todayWithTime"
   ]
  },
  {
   "cell_type": "code",
   "execution_count": 4,
   "id": "39cbdf86",
   "metadata": {},
   "outputs": [
    {
     "data": {
      "text/plain": [
       "datetime.date(2022, 10, 8)"
      ]
     },
     "execution_count": 4,
     "metadata": {},
     "output_type": "execute_result"
    }
   ],
   "source": [
    "todayWithoutTime = datetime.date.today()\n",
    "todayWithoutTime"
   ]
  },
  {
   "cell_type": "code",
   "execution_count": 5,
   "id": "c14c35bd",
   "metadata": {},
   "outputs": [
    {
     "data": {
      "text/plain": [
       "'07: 56: 31'"
      ]
     },
     "execution_count": 5,
     "metadata": {},
     "output_type": "execute_result"
    }
   ],
   "source": [
    "formatting_time = datetime.datetime.strftime(todayWithTime,\"%H: %M: %S\")\n",
    "formatting_time"
   ]
  },
  {
   "cell_type": "code",
   "execution_count": 8,
   "id": "9f5996ac",
   "metadata": {},
   "outputs": [
    {
     "data": {
      "text/plain": [
       "'10/08/2022'"
      ]
     },
     "execution_count": 8,
     "metadata": {},
     "output_type": "execute_result"
    }
   ],
   "source": [
    "formatting_date = datetime.datetime.strftime(todayWithoutTime, \"%m/%d/%Y\")\n",
    "formatting_date"
   ]
  },
  {
   "cell_type": "markdown",
   "id": "2349b2e3",
   "metadata": {},
   "source": [
    "# Task 1"
   ]
  },
  {
   "cell_type": "code",
   "execution_count": 21,
   "id": "1e4f561d",
   "metadata": {},
   "outputs": [],
   "source": [
    "import datetime"
   ]
  },
  {
   "cell_type": "code",
   "execution_count": 22,
   "id": "bd17191b",
   "metadata": {},
   "outputs": [
    {
     "data": {
      "text/plain": [
       "'08-10-2022 '"
      ]
     },
     "execution_count": 22,
     "metadata": {},
     "output_type": "execute_result"
    }
   ],
   "source": [
    "y = datetime.datetime.strftime(todayWithoutTime, \"%d-%m-%Y \")\n",
    "y"
   ]
  },
  {
   "cell_type": "code",
   "execution_count": 27,
   "id": "e911d671",
   "metadata": {},
   "outputs": [
    {
     "name": "stdout",
     "output_type": "stream",
     "text": [
      "Today is Saturday\n"
     ]
    }
   ],
   "source": [
    "today = datetime.datetime.today()\n",
    "day = today.strftime(\"%A\")\n",
    "print(\"Today is\", day)"
   ]
  },
  {
   "cell_type": "code",
   "execution_count": 28,
   "id": "2c97340b",
   "metadata": {},
   "outputs": [
    {
     "name": "stdout",
     "output_type": "stream",
     "text": [
      "It's October\n"
     ]
    }
   ],
   "source": [
    "today = datetime.datetime.today()\n",
    "Month = today.strftime(\"%B\")\n",
    "print(\"It's\", Month)"
   ]
  }
 ],
 "metadata": {
  "kernelspec": {
   "display_name": "Python 3 (ipykernel)",
   "language": "python",
   "name": "python3"
  },
  "language_info": {
   "codemirror_mode": {
    "name": "ipython",
    "version": 3
   },
   "file_extension": ".py",
   "mimetype": "text/x-python",
   "name": "python",
   "nbconvert_exporter": "python",
   "pygments_lexer": "ipython3",
   "version": "3.9.12"
  }
 },
 "nbformat": 4,
 "nbformat_minor": 5
}

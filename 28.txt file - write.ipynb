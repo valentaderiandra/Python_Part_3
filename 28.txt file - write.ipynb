{
 "cells": [
  {
   "cell_type": "code",
   "execution_count": 5,
   "id": "29d74814",
   "metadata": {},
   "outputs": [
    {
     "name": "stdout",
     "output_type": "stream",
     "text": [
      "What do you want to add in the file ?Valent Aderiandra\n"
     ]
    }
   ],
   "source": [
    "with open('towrite.txt','w') as WriteFile:\n",
    "     tolog = input(\"What do you want to add in the file ?\")\n",
    "     WriteFile.write (tolog)"
   ]
  },
  {
   "cell_type": "code",
   "execution_count": 6,
   "id": "888259a5",
   "metadata": {},
   "outputs": [],
   "source": [
    "workFile = open('towrite.txt','r')"
   ]
  },
  {
   "cell_type": "code",
   "execution_count": 7,
   "id": "e7e4a645",
   "metadata": {},
   "outputs": [],
   "source": [
    "workFileContents = workFile.read()"
   ]
  },
  {
   "cell_type": "code",
   "execution_count": 8,
   "id": "c0e25649",
   "metadata": {},
   "outputs": [
    {
     "name": "stdout",
     "output_type": "stream",
     "text": [
      "Valent Aderiandra\n"
     ]
    }
   ],
   "source": [
    "print(workFileContents)"
   ]
  }
 ],
 "metadata": {
  "kernelspec": {
   "display_name": "Python 3 (ipykernel)",
   "language": "python",
   "name": "python3"
  },
  "language_info": {
   "codemirror_mode": {
    "name": "ipython",
    "version": 3
   },
   "file_extension": ".py",
   "mimetype": "text/x-python",
   "name": "python",
   "nbconvert_exporter": "python",
   "pygments_lexer": "ipython3",
   "version": "3.9.12"
  }
 },
 "nbformat": 4,
 "nbformat_minor": 5
}

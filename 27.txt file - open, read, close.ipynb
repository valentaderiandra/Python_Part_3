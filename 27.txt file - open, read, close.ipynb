{
 "cells": [
  {
   "cell_type": "markdown",
   "id": "c2523372",
   "metadata": {},
   "source": [
    "# Open"
   ]
  },
  {
   "cell_type": "code",
   "execution_count": 7,
   "id": "d0ac470e",
   "metadata": {},
   "outputs": [],
   "source": [
    "workFile = open('jackets.txt','r')"
   ]
  },
  {
   "cell_type": "code",
   "execution_count": 8,
   "id": "5d0b3c64",
   "metadata": {},
   "outputs": [],
   "source": [
    "workFileContents = workFile.read()"
   ]
  },
  {
   "cell_type": "code",
   "execution_count": 9,
   "id": "b96fa661",
   "metadata": {},
   "outputs": [
    {
     "name": "stdout",
     "output_type": "stream",
     "text": [
      "Product, Price\n",
      "Big Down Jacket, 100\n",
      "Medium Down Jacket, 80\n",
      "Regular Jacket, 40\n"
     ]
    }
   ],
   "source": [
    "print(workFileContents)"
   ]
  },
  {
   "cell_type": "markdown",
   "id": "af4963a6",
   "metadata": {},
   "source": [
    "# Read"
   ]
  },
  {
   "cell_type": "code",
   "execution_count": 18,
   "id": "23f9264d",
   "metadata": {},
   "outputs": [],
   "source": [
    "workFile = open('jackets.txt','r')"
   ]
  },
  {
   "cell_type": "code",
   "execution_count": 19,
   "id": "bad18c2c",
   "metadata": {},
   "outputs": [],
   "source": [
    "workFileFirstLine = workFile.readline()"
   ]
  },
  {
   "cell_type": "code",
   "execution_count": 20,
   "id": "246a83be",
   "metadata": {},
   "outputs": [
    {
     "name": "stdout",
     "output_type": "stream",
     "text": [
      "Product, Price\n",
      "\n"
     ]
    }
   ],
   "source": [
    "print(workFileFirstLine )"
   ]
  },
  {
   "cell_type": "code",
   "execution_count": 22,
   "id": "dd6da64a",
   "metadata": {},
   "outputs": [],
   "source": [
    "workFileSecondLine = workFile.readline()\n"
   ]
  },
  {
   "cell_type": "code",
   "execution_count": 23,
   "id": "b8c3ec33",
   "metadata": {},
   "outputs": [
    {
     "name": "stdout",
     "output_type": "stream",
     "text": [
      "Big Down Jacket, 100\n",
      "\n"
     ]
    }
   ],
   "source": [
    "print(workFileSecondLine)"
   ]
  },
  {
   "cell_type": "markdown",
   "id": "ebee5f6f",
   "metadata": {},
   "source": [
    "# Close"
   ]
  },
  {
   "cell_type": "code",
   "execution_count": 24,
   "id": "59e27bef",
   "metadata": {},
   "outputs": [],
   "source": [
    "workFile.close()"
   ]
  },
  {
   "cell_type": "markdown",
   "id": "33377654",
   "metadata": {},
   "source": [
    "# Task 1"
   ]
  },
  {
   "cell_type": "code",
   "execution_count": 1,
   "id": "4e05436b",
   "metadata": {},
   "outputs": [],
   "source": [
    "workFile = open('Biodata.txt','r')"
   ]
  },
  {
   "cell_type": "code",
   "execution_count": 2,
   "id": "412b506e",
   "metadata": {},
   "outputs": [],
   "source": [
    "workFileContents = workFile.read()"
   ]
  },
  {
   "cell_type": "code",
   "execution_count": 3,
   "id": "cbda8b4f",
   "metadata": {},
   "outputs": [
    {
     "name": "stdout",
     "output_type": "stream",
     "text": [
      "Valent Aderiandra\n",
      "https://www.linkedin.com/in/valentaderiandra/\n",
      "Data Scientist\n",
      "I can SQL, Python and Power BI\n"
     ]
    }
   ],
   "source": [
    "print(workFileContents)"
   ]
  },
  {
   "cell_type": "code",
   "execution_count": 4,
   "id": "808629f2",
   "metadata": {},
   "outputs": [
    {
     "name": "stdout",
     "output_type": "stream",
     "text": [
      "Valent Aderiandra\n",
      "\n"
     ]
    }
   ],
   "source": [
    "workFile = open('Biodata.txt','r')\n",
    "workFileFirstLine = workFile.readline()\n",
    "print(workFileFirstLine )"
   ]
  },
  {
   "cell_type": "code",
   "execution_count": 5,
   "id": "00b2959c",
   "metadata": {
    "scrolled": false
   },
   "outputs": [
    {
     "name": "stdout",
     "output_type": "stream",
     "text": [
      "https://www.linkedin.com/in/valentaderiandra/\n",
      "\n"
     ]
    }
   ],
   "source": [
    "workFileSecondLine = workFile.readline()\n",
    "print(workFileSecondLine)"
   ]
  },
  {
   "cell_type": "code",
   "execution_count": 6,
   "id": "ca2c948d",
   "metadata": {
    "scrolled": true
   },
   "outputs": [
    {
     "name": "stdout",
     "output_type": "stream",
     "text": [
      "Data Scientist\n",
      "\n"
     ]
    }
   ],
   "source": [
    "workFileThreeLine = workFile.readline()\n",
    "print(workFileThreeLine)"
   ]
  },
  {
   "cell_type": "code",
   "execution_count": 7,
   "id": "25a06e15",
   "metadata": {
    "scrolled": false
   },
   "outputs": [
    {
     "name": "stdout",
     "output_type": "stream",
     "text": [
      "I can SQL, Python and Power BI\n"
     ]
    }
   ],
   "source": [
    "workFileFourLine = workFile.readline()\n",
    "print(workFileFourLine)"
   ]
  }
 ],
 "metadata": {
  "kernelspec": {
   "display_name": "Python 3 (ipykernel)",
   "language": "python",
   "name": "python3"
  },
  "language_info": {
   "codemirror_mode": {
    "name": "ipython",
    "version": 3
   },
   "file_extension": ".py",
   "mimetype": "text/x-python",
   "name": "python",
   "nbconvert_exporter": "python",
   "pygments_lexer": "ipython3",
   "version": "3.9.12"
  }
 },
 "nbformat": 4,
 "nbformat_minor": 5
}

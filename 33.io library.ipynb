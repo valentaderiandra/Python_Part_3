{
 "cells": [
  {
   "cell_type": "code",
   "execution_count": 1,
   "id": "eed7cced",
   "metadata": {},
   "outputs": [],
   "source": [
    "import io"
   ]
  },
  {
   "cell_type": "code",
   "execution_count": 1,
   "id": "178a997d",
   "metadata": {},
   "outputs": [
    {
     "name": "stdout",
     "output_type": "stream",
     "text": [
      "What do you want to write to the log?Valent Aderiandra\n"
     ]
    }
   ],
   "source": [
    "# To type in toLog, if there is no log.txt file, it will add a new file\n",
    "with open('log.txt', 'w') as writeFile:\n",
    "    toLog = input(\"What do you want to write to the log?\")\n",
    "    writeFile.write(toLog)"
   ]
  },
  {
   "cell_type": "code",
   "execution_count": 3,
   "id": "7e50793e",
   "metadata": {},
   "outputs": [
    {
     "name": "stdout",
     "output_type": "stream",
     "text": [
      "Valent Aderiandra\n"
     ]
    }
   ],
   "source": [
    "workFile = open ('log.txt','r')\n",
    "conten = workFile.read()\n",
    "print(conten)"
   ]
  },
  {
   "cell_type": "code",
   "execution_count": 5,
   "id": "b4f63ee3",
   "metadata": {},
   "outputs": [],
   "source": [
    "workFile.close()"
   ]
  }
 ],
 "metadata": {
  "kernelspec": {
   "display_name": "Python 3 (ipykernel)",
   "language": "python",
   "name": "python3"
  },
  "language_info": {
   "codemirror_mode": {
    "name": "ipython",
    "version": 3
   },
   "file_extension": ".py",
   "mimetype": "text/x-python",
   "name": "python",
   "nbconvert_exporter": "python",
   "pygments_lexer": "ipython3",
   "version": "3.9.12"
  }
 },
 "nbformat": 4,
 "nbformat_minor": 5
}

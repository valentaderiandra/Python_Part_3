{
 "cells": [
  {
   "cell_type": "markdown",
   "id": "a10da4d0",
   "metadata": {},
   "source": [
    "# Penanganan Pengecualian - 2 "
   ]
  },
  {
   "cell_type": "markdown",
   "id": "99f7c766",
   "metadata": {},
   "source": [
    "* The exception handling process uses a try statement paired with except \n",
    "* For example we want to handle exceptions that occur if there is a division of a number by zero (0)"
   ]
  },
  {
   "cell_type": "code",
   "execution_count": 1,
   "id": "9b8c1d1e",
   "metadata": {},
   "outputs": [
    {
     "ename": "ZeroDivisionError",
     "evalue": "division by zero",
     "output_type": "error",
     "traceback": [
      "\u001b[1;31m---------------------------------------------------------------------------\u001b[0m",
      "\u001b[1;31mZeroDivisionError\u001b[0m                         Traceback (most recent call last)",
      "Input \u001b[1;32mIn [1]\u001b[0m, in \u001b[0;36m<cell line: 2>\u001b[1;34m()\u001b[0m\n\u001b[0;32m      1\u001b[0m a\u001b[38;5;241m=\u001b[39m\u001b[38;5;241m0\u001b[39m\n\u001b[1;32m----> 2\u001b[0m divide \u001b[38;5;241m=\u001b[39m \u001b[38;5;241;43m1\u001b[39;49m\u001b[38;5;241;43m/\u001b[39;49m\u001b[43ma\u001b[49m\n",
      "\u001b[1;31mZeroDivisionError\u001b[0m: division by zero"
     ]
    }
   ],
   "source": [
    "a=0\n",
    "divide = 1/a"
   ]
  },
  {
   "cell_type": "code",
   "execution_count": 2,
   "id": "f2c9a756",
   "metadata": {},
   "outputs": [
    {
     "name": "stdout",
     "output_type": "stream",
     "text": [
      "Can't divide a number by zero\n"
     ]
    }
   ],
   "source": [
    "a=0\n",
    "try :\n",
    "\tresult = 1/a\n",
    "\tprint(result)\n",
    "except ZeroDivisionError:\n",
    "\tprint(\"Can't divide a number by zero\")"
   ]
  },
  {
   "cell_type": "markdown",
   "id": "f4b8e36f",
   "metadata": {},
   "source": [
    "## Task 1"
   ]
  },
  {
   "cell_type": "code",
   "execution_count": 3,
   "id": "4bb812f2",
   "metadata": {},
   "outputs": [
    {
     "name": "stdout",
     "output_type": "stream",
     "text": [
      "Enter your phone number Valent\n",
      "Just enter numbers !\n",
      "Enter your phone number 081230254768\n",
      "Your number is 81230254768\n"
     ]
    }
   ],
   "source": [
    "while True :\n",
    "    try : \n",
    "        nomor = int(input(\"Enter your phone number \"))\n",
    "        print(\"Your number is\",nomor)\n",
    "        break;\n",
    "    except ValueError:\n",
    "        print (\"Just enter numbers !\")"
   ]
  },
  {
   "cell_type": "markdown",
   "id": "bd089f40",
   "metadata": {},
   "source": [
    "ZeroDivisionError is an exception that occurs when program execution results in a mathematical calculation of division by zero."
   ]
  },
  {
   "cell_type": "markdown",
   "id": "46c92f13",
   "metadata": {},
   "source": [
    "Exception handling for ZeroDivisionError is done so that the application no longer exits execution due to an error, but is replaced by printing a message to the screen"
   ]
  },
  {
   "cell_type": "code",
   "execution_count": 4,
   "id": "82e2d808",
   "metadata": {},
   "outputs": [
    {
     "name": "stdout",
     "output_type": "stream",
     "text": [
      "file not found\n"
     ]
    }
   ],
   "source": [
    "try :\n",
    "\twith open('Example_file_no_exist.py') as file:\n",
    "\t\tprint(file.read())\n",
    "except (FileNotFoundError) :\n",
    "\tprint(\"file not found\")"
   ]
  },
  {
   "cell_type": "markdown",
   "id": "0bd5c679",
   "metadata": {},
   "source": [
    "For example, handling FileNotFoundError as a one-element tuple, don't forget to write a one-element tuple must still end with a comma"
   ]
  },
  {
   "cell_type": "code",
   "execution_count": 3,
   "id": "b306ff69",
   "metadata": {},
   "outputs": [
    {
     "name": "stdout",
     "output_type": "stream",
     "text": [
      "{\n",
      " \"cells\": [\n",
      "  {\n",
      "   \"cell_type\": \"markdown\",\n",
      "   \"id\": \"4d674914\",\n",
      "   \"metadata\": {},\n",
      "   \"source\": [\n",
      "    \"# Pass\\n\"\n",
      "   ]\n",
      "  },\n",
      "  {\n",
      "   \"cell_type\": \"markdown\",\n",
      "   \"id\": \"0e3599d9\",\n",
      "   \"metadata\": {},\n",
      "   \"source\": [\n",
      "    \"Digunakan jika kita menginginkan sebuah pernyataan atau blok pernyataan (statement),namun tidak melakukan apapun - melanjutkan eksekusi sesuai dengan urutannya.\"\n",
      "   ]\n",
      "  },\n",
      "  {\n",
      "   \"cell_type\": \"markdown\",\n",
      "   \"id\": \"9ff8bb1b\",\n",
      "   \"metadata\": {},\n",
      "   \"source\": [\n",
      "    \"Kontrol ini banyak digunakan saat kita belum melakukan implementasi (atau menyiapkan tempat untuk implementasi),serta membiarkan program tetap berjalan saat misalnya kita mengalami kegagalan atau exception.\"\n",
      "   ]\n",
      "  },\n",
      "  {\n",
      "   \"cell_type\": \"markdown\",\n",
      "   \"id\": \"6b191a94\",\n",
      "   \"metadata\": {},\n",
      "   \"source\": [\n",
      "    \"Pass statement adalah operasi bersifat Null (kosong),tidak ada yang terjadi saat ia dipanggil\"\n",
      "   ]\n",
      "  },\n",
      "  {\n",
      "   \"cell_type\": \"code\",\n",
      "   \"execution_count\": 12,\n",
      "   \"id\": \"fd73fa42\",\n",
      "   \"metadata\": {\n",
      "    \"scrolled\": true\n",
      "   },\n",
      "   \"outputs\": [\n",
      "    {\n",
      "     \"ename\": \"IndentationError\",\n",
      "     \"evalue\": \"expected an indented block (1150240172.py, line 2)\",\n",
      "     \"output_type\": \"error\",\n",
      "     \"traceback\": [\n",
      "      \"\\u001b[1;36m  Input \\u001b[1;32mIn [12]\\u001b[1;36m\\u001b[0m\\n\\u001b[1;33m    for val in sequence:\\u001b[0m\\n\\u001b[1;37m                        ^\\u001b[0m\\n\\u001b[1;31mIndentationError\\u001b[0m\\u001b[1;31m:\\u001b[0m expected an indented block\\n\"\n",
      "     ]\n",
      "    }\n",
      "   ],\n",
      "   \"source\": [\n",
      "    \"#Sebelum menggunakan pass\\n\",\n",
      "    \"sequence = {'p', 'a', 's', 's'}\\n\",\n",
      "    \"for val in sequence:\"\n",
      "   ]\n",
      "  },\n",
      "  {\n",
      "   \"cell_type\": \"code\",\n",
      "   \"execution_count\": 1,\n",
      "   \"id\": \"be6a0b5c\",\n",
      "   \"metadata\": {},\n",
      "   \"outputs\": [],\n",
      "   \"source\": [\n",
      "    \"#Setelah menggunakan pass\\n\",\n",
      "    \"sequence = {'p', 'a', 's', 's'}\\n\",\n",
      "    \"for val in sequence:\\n\",\n",
      "    \"    pass\"\n",
      "   ]\n",
      "  },\n",
      "  {\n",
      "   \"cell_type\": \"code\",\n",
      "   \"execution_count\": 10,\n",
      "   \"id\": \"6464da4e\",\n",
      "   \"metadata\": {},\n",
      "   \"outputs\": [\n",
      "    {\n",
      "     \"name\": \"stdout\",\n",
      "     \"output_type\": \"stream\",\n",
      "     \"text\": [\n",
      "      \"Peroleh : 313\\n\",\n",
      "      \"Dapat angka 313\\n\",\n",
      "      \"Peroleh : t\\n\",\n",
      "      \"Dapat error <class 'ValueError'>\\n\",\n",
      "      \"Peroleh : 2\\n\",\n",
      "      \"Dapat angka 2\\n\",\n",
      "      \"Peroleh : z\\n\",\n",
      "      \"Dapat error <class 'ValueError'>\\n\"\n",
      "     ]\n",
      "    }\n",
      "   ],\n",
      "   \"source\": [\n",
      "    \"#Task 1\\n\",\n",
      "    \"import sys\\n\",\n",
      "    \"\\n\",\n",
      "    \"n = ''\\n\",\n",
      "    \"\\n\",\n",
      "    \"while (n!=\\\"z\\\"):\\n\",\n",
      "    \"\\ttry :\\n\",\n",
      "    \"\\t\\tn = (input(\\\"Peroleh : \\\"))\\n\",\n",
      "    \"\\t\\tprint(\\\"Dapat angka {}\\\".format(int(n)))\\n\",\n",
      "    \"\\texcept :\\n\",\n",
      "    \"\\t\\tif n == 'z':\\n\",\n",
      "    \"\\t\\t\\tpass \\n\",\n",
      "    \"\\t\\telse :\\n\",\n",
      "    \"\\t\\t\\tprint ('Dapat error {}'.format(sys.exc_info()[0]))\"\n",
      "   ]\n",
      "  }\n",
      " ],\n",
      " \"metadata\": {\n",
      "  \"kernelspec\": {\n",
      "   \"display_name\": \"Python 3 (ipykernel)\",\n",
      "   \"language\": \"python\",\n",
      "   \"name\": \"python3\"\n",
      "  },\n",
      "  \"language_info\": {\n",
      "   \"codemirror_mode\": {\n",
      "    \"name\": \"ipython\",\n",
      "    \"version\": 3\n",
      "   },\n",
      "   \"file_extension\": \".py\",\n",
      "   \"mimetype\": \"text/x-python\",\n",
      "   \"name\": \"python\",\n",
      "   \"nbconvert_exporter\": \"python\",\n",
      "   \"pygments_lexer\": \"ipython3\",\n",
      "   \"version\": \"3.9.12\"\n",
      "  }\n",
      " },\n",
      " \"nbformat\": 4,\n",
      " \"nbformat_minor\": 5\n",
      "}\n",
      "\n"
     ]
    }
   ],
   "source": [
    "try :\n",
    "\twith open('20.Pass.ipynb') as file:\n",
    "\t\tprint(file.read())\n",
    "except (FileNotFoundError, ) :\n",
    "\tprint(\"file not found\")"
   ]
  },
  {
   "cell_type": "code",
   "execution_count": 5,
   "id": "6a8e18db",
   "metadata": {},
   "outputs": [
    {
     "name": "stdout",
     "output_type": "stream",
     "text": [
      "file not found\n"
     ]
    }
   ],
   "source": [
    "try :\n",
    "\twith open('Example_file_no_exist.py') as file:\n",
    "\t\tprint(file.read())\n",
    "except (FileNotFoundError) :\n",
    "\tprint(\"file not found\")"
   ]
  },
  {
   "cell_type": "markdown",
   "id": "057cbfd2",
   "metadata": {},
   "source": [
    "With a pair of try and except statements, the application does not stop but prints on the screen that the file was not found."
   ]
  },
  {
   "cell_type": "code",
   "execution_count": 6,
   "id": "4c5d0d91",
   "metadata": {},
   "outputs": [
    {
     "name": "stdout",
     "output_type": "stream",
     "text": [
      "average: 10.0\n"
     ]
    }
   ],
   "source": [
    "s = {'average':'10.0'}\n",
    "print('average: {}'.format(s['average']))"
   ]
  },
  {
   "cell_type": "markdown",
   "id": "ecf60068",
   "metadata": {},
   "source": [
    "In more complex applications, exception handling can use more than one except statement. The next example will use more than one except statement (for one try statement)."
   ]
  },
  {
   "cell_type": "code",
   "execution_count": 8,
   "id": "275a6d3f",
   "metadata": {},
   "outputs": [
    {
     "name": "stdout",
     "output_type": "stream",
     "text": [
      "Key not found in dictionary\n"
     ]
    }
   ],
   "source": [
    "s = {'average':'10.0'}\n",
    "try :\n",
    "    print(\"average : {}\".format(s['averag'])) # If the averag is changed to average it will display the average value\n",
    "except KeyError :\n",
    "    print('Key not found in dictionary')\n",
    "except ValueError :\n",
    "    print('Invalid value')"
   ]
  },
  {
   "cell_type": "markdown",
   "id": "521aa0af",
   "metadata": {},
   "source": [
    "## Task 2"
   ]
  },
  {
   "cell_type": "code",
   "execution_count": 11,
   "id": "a3ab7781",
   "metadata": {},
   "outputs": [
    {
     "name": "stdout",
     "output_type": "stream",
     "text": [
      "Enter the average value without comma = 20.5\n",
      "Invalid value\n"
     ]
    }
   ],
   "source": [
    "try :\n",
    "    s = int(input(\"Enter the average value without comma = \"))\n",
    "    print(\"Average : {}\".format(s))\n",
    "except KeyError :\n",
    "    print('Key not found in dictionary')\n",
    "except ValueError :\n",
    "    print('Invalid value')"
   ]
  }
 ],
 "metadata": {
  "kernelspec": {
   "display_name": "Python 3 (ipykernel)",
   "language": "python",
   "name": "python3"
  },
  "language_info": {
   "codemirror_mode": {
    "name": "ipython",
    "version": 3
   },
   "file_extension": ".py",
   "mimetype": "text/x-python",
   "name": "python",
   "nbconvert_exporter": "python",
   "pygments_lexer": "ipython3",
   "version": "3.9.12"
  }
 },
 "nbformat": 4,
 "nbformat_minor": 5
}
